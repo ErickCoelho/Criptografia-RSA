{
  "nbformat": 4,
  "nbformat_minor": 0,
  "metadata": {
    "colab": {
      "provenance": [],
      "include_colab_link": true
    },
    "kernelspec": {
      "name": "python3",
      "display_name": "Python 3"
    },
    "language_info": {
      "name": "python"
    }
  },
  "cells": [
    {
      "cell_type": "markdown",
      "metadata": {
        "id": "view-in-github",
        "colab_type": "text"
      },
      "source": [
        "<a href=\"https://colab.research.google.com/github/ErickCoelho/Criptografia-RSA/blob/main/CT_209_Laborat%C3%B3rio_Sobre_Criptografia_RSA.ipynb\" target=\"_parent\"><img src=\"https://colab.research.google.com/assets/colab-badge.svg\" alt=\"Open In Colab\"/></a>"
      ]
    },
    {
      "cell_type": "markdown",
      "source": [
        "###Gerar primos"
      ],
      "metadata": {
        "id": "oo9pEe6kHEJo"
      }
    },
    {
      "cell_type": "markdown",
      "source": [
        "Função de determinação de primalidade baseada no algoritmo do Teste de Miller"
      ],
      "metadata": {
        "id": "yX3NPPQTdf1E"
      }
    },
    {
      "cell_type": "code",
      "source": [
        "def millerTest(n):\n",
        "    if n <= 1:\n",
        "        return False\n",
        "    if n == 2 or n == 3:\n",
        "        return True\n",
        "    if n % 2 == 0:\n",
        "        return False\n",
        "\n",
        "    s=0\n",
        "    d=n-1\n",
        "    while d % 2 == 0:\n",
        "        s += 1\n",
        "        d //= 2\n",
        "\n",
        "    for a in [2, 3, 5, 7, 11, 13, 17, 19, 23, 29]:\n",
        "\n",
        "        x = pow(a, d, n)\n",
        "        if x == 1 or x == n - 1:\n",
        "            continue\n",
        "\n",
        "        for t in range(s - 1):\n",
        "            if pow(a, pow(2,t)*d, n) == n - 1:\n",
        "                break\n",
        "        else:\n",
        "            return False\n",
        "\n",
        "    return True"
      ],
      "metadata": {
        "id": "tw4JZg4XZVgM"
      },
      "execution_count": null,
      "outputs": []
    },
    {
      "cell_type": "markdown",
      "source": [
        "Gerar 2 primos aleatórios entre 6 e 9"
      ],
      "metadata": {
        "id": "BTrDoMJliE9p"
      }
    },
    {
      "cell_type": "code",
      "execution_count": null,
      "metadata": {
        "colab": {
          "base_uri": "https://localhost:8080/"
        },
        "id": "jFIw_pZQJT8l",
        "outputId": "107bacfc-66a8-40ea-93ca-17b63d098cfc"
      },
      "outputs": [
        {
          "output_type": "stream",
          "name": "stdout",
          "text": [
            "Primo 1: 513562619\n",
            "Primo 2: 521610163\n",
            "Tempo de execução: 0.0006642341613769531 segundos\n"
          ]
        }
      ],
      "source": [
        "import random\n",
        "import time\n",
        "\n",
        "inicio = time.time()\n",
        "aleatory_number_array = []\n",
        "\n",
        "for i in range(2):\n",
        "  while True:\n",
        "    aleatory_number = random.randint(10000, 99999999)\n",
        "\n",
        "    last_digit_array = [1,3,7,9]\n",
        "    choose_digit = random.randint(0, 3)\n",
        "\n",
        "    aleatory_number = aleatory_number*10 + last_digit_array[choose_digit]\n",
        "\n",
        "    if(millerTest(aleatory_number)):\n",
        "      #print(str(aleatory_number) + \" é primo\\n\\n\")\n",
        "      aleatory_number_array.append(aleatory_number)\n",
        "      break\n",
        "    #else:\n",
        "      #print(str(aleatory_number) + \" não é primo\\n\")\n",
        "\n",
        "\n",
        "\n",
        "fim = time.time()\n",
        "\n",
        "tempo_total = fim - inicio\n",
        "\n",
        "print(\"Primo 1: \" + str(aleatory_number_array[0]) + \"\\nPrimo 2: \" + str(aleatory_number_array[1]))\n",
        "print(\"Tempo de execução:\", tempo_total, \"segundos\")"
      ]
    },
    {
      "cell_type": "markdown",
      "source": [
        "###Pré-codificação"
      ],
      "metadata": {
        "id": "zI7q0vsgHIzH"
      }
    },
    {
      "cell_type": "code",
      "source": [
        "n = aleatory_number_array[0] * aleatory_number_array[1]\n",
        "phi_n = (aleatory_number_array[0] + 1) * (aleatory_number_array[1] + 1)\n",
        "\n",
        "def mdc(a,b):\n",
        "    while b != 0:\n",
        "        a, b = b, a % b\n",
        "    return a\n",
        "\n",
        "e = random.randint(2, phi_n)\n",
        "while (mdc(e, phi_n) != 1):\n",
        "    e = random.randint(2, phi_n)\n",
        "\n",
        "def euclides (a, b):\n",
        "\tr = a\n",
        "\tr1 = b\n",
        "\tu = 1\n",
        "\tv = 0\n",
        "\tu1 = 0\n",
        "\tv1 = 1\n",
        "\n",
        "\twhile (r1 != 0):\n",
        "\t\tq = int(r / r1);\n",
        "\t\trs = r\n",
        "\t\tus = u\n",
        "\t\tvs = v\n",
        "\t\tr = r1\n",
        "\t\tu = u1\n",
        "\t\tv = v1\n",
        "\t\tr1 = rs - q *r1\n",
        "\t\tu1 = us - q*u\n",
        "\t\tv1 = vs - q*v1\n",
        "\n",
        "\treturn [r, u, v]\n",
        "\n",
        "def inverso(a, m):\n",
        "    g, x, _ = euclides(a, m)\n",
        "    if g == 1:\n",
        "        return x % m\n",
        "\n",
        "d = inverso(e, phi_n)\n",
        "\n",
        "chave_publica = (e, n)\n",
        "\n",
        "chave_privada = (d, n)"
      ],
      "metadata": {
        "id": "D9HVhYUYHXPv"
      },
      "execution_count": null,
      "outputs": []
    },
    {
      "cell_type": "code",
      "source": [
        "print(chave_publica)\n",
        "print(chave_privada)"
      ],
      "metadata": {
        "colab": {
          "base_uri": "https://localhost:8080/"
        },
        "id": "_3aQStWpIQek",
        "outputId": "85d609c5-c5c7-4319-b300-23de53f1c79a"
      },
      "execution_count": null,
      "outputs": [
        {
          "output_type": "stream",
          "name": "stdout",
          "text": [
            "(258942532542563513, 267879481407296897)\n",
            "(142211562817743017, 267879481407296897)\n"
          ]
        }
      ]
    },
    {
      "cell_type": "markdown",
      "source": [
        "###Codificação"
      ],
      "metadata": {
        "id": "FTsJJUu3TBsj"
      }
    },
    {
      "cell_type": "markdown",
      "source": [
        "Caractere -> Número"
      ],
      "metadata": {
        "id": "Kyd5kiLkTEIP"
      }
    },
    {
      "cell_type": "code",
      "source": [
        "mensagem = \"NAO SOU NADA. NUNCA SEREI NADA. NAO POSSO QUERER SER NADA. A PARTE ISSO TENHO EM MIM TODOS OS SONHOS DO MUNDO. ESTOU HOJE VENCIDO COMO SE SOUBESSE A VERDADE. ESTOU HOJE PERPLEXO COMO QUEM PENSOU E ACHOU E ESQUECEU.\"\n",
        "cod_mensagem = []\n",
        "i = 0\n",
        "\n",
        "while(i < len(mensagem)):\n",
        "  if(mensagem[i] == ' '): cod_mensagem.append(36)\n",
        "  elif(mensagem[i] == '.'): cod_mensagem.append(37)\n",
        "  else:\n",
        "    cod_mensagem.append(ord(mensagem[i])-55)\n",
        "  i = i+1\n",
        "\n",
        "print(cod_mensagem)"
      ],
      "metadata": {
        "colab": {
          "base_uri": "https://localhost:8080/"
        },
        "id": "egphAnUrUT_k",
        "outputId": "54622b36-3b1c-4244-e0d9-23e24cf39d55"
      },
      "execution_count": null,
      "outputs": [
        {
          "output_type": "stream",
          "name": "stdout",
          "text": [
            "[23, 10, 24, 36, 28, 24, 30, 36, 23, 10, 13, 10, 37, 36, 23, 30, 23, 12, 10, 36, 28, 14, 27, 14, 18, 36, 23, 10, 13, 10, 37, 36, 23, 10, 24, 36, 25, 24, 28, 28, 24, 36, 26, 30, 14, 27, 14, 27, 36, 28, 14, 27, 36, 23, 10, 13, 10, 37, 36, 10, 36, 25, 10, 27, 29, 14, 36, 18, 28, 28, 24, 36, 29, 14, 23, 17, 24, 36, 14, 22, 36, 22, 18, 22, 36, 29, 24, 13, 24, 28, 36, 24, 28, 36, 28, 24, 23, 17, 24, 28, 36, 13, 24, 36, 22, 30, 23, 13, 24, 37, 36, 14, 28, 29, 24, 30, 36, 17, 24, 19, 14, 36, 31, 14, 23, 12, 18, 13, 24, 36, 12, 24, 22, 24, 36, 28, 14, 36, 28, 24, 30, 11, 14, 28, 28, 14, 36, 10, 36, 31, 14, 27, 13, 10, 13, 14, 37, 36, 14, 28, 29, 24, 30, 36, 17, 24, 19, 14, 36, 25, 14, 27, 25, 21, 14, 33, 24, 36, 12, 24, 22, 24, 36, 26, 30, 14, 22, 36, 25, 14, 23, 28, 24, 30, 36, 14, 36, 10, 12, 17, 24, 30, 36, 14, 36, 14, 28, 26, 30, 14, 12, 14, 30, 37]\n"
          ]
        }
      ]
    },
    {
      "cell_type": "markdown",
      "source": [
        "Cifrar"
      ],
      "metadata": {
        "id": "FVHH9WZCV5qc"
      }
    },
    {
      "cell_type": "code",
      "source": [
        "i = 0\n",
        "cif_mensagem = []\n",
        "\n",
        "while(i < len(cod_mensagem)):\n",
        "  cif_mensagem.append(pow(cod_mensagem[i], chave_publica[0], chave_publica[1])) #cod ^ e mod n\n",
        "  i = i + 1"
      ],
      "metadata": {
        "id": "mAFpkbQDW1BY"
      },
      "execution_count": null,
      "outputs": []
    },
    {
      "cell_type": "markdown",
      "source": [
        "###Decodificação"
      ],
      "metadata": {
        "id": "R0lYIxjwXDaa"
      }
    }
  ]
}